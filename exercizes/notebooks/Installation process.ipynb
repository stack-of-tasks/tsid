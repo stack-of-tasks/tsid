{
  "cells": [
  {
   "cell_type": "markdown",
   "metadata": {},
   "source": [
    "## Installation process"
   ]
  },
  {
   "cell_type": "markdown",
   "metadata": {},
   "source": [
    "1) Install the robotpkg binaries which are needed for this exercice:\n",
    "\n",
    "   ```\n",
    "   sudo apt-get install robotpkg-sot-talos robotpkg-talos-dev \n",
    "   sudo apt-get install robotpkg-py27-qt4-gepetto-viewer-corba \n",
    "   ```"
   ]
  },
  {
   "cell_type": "markdown",
   "metadata": {},
   "source": [
    "#### Alternative to install jupyter\n",
    "\n",
    "2) Use ```pip install jupyter``` (but be carefull it may broke your environment)\n",
    "\n",
    "2) Configure a specific environment with [virtualenv](https://virtualenv.pypa.io/en/stable/):\n",
    "\n",
    "   - In the directory containing the jupyter notebook download the _virtualenv_ source, extract and install it:  \n",
    "    \n",
    "    ```\n",
    "    curl --location --output virtualenv-master.tar.gz https://github.com/pypa/virtualenv/tarball/master \n",
    "    tar xvfz virtualenv-master.tar.gz \n",
    "    cd pypa-virtualenv-master \n",
    "    python virtualenv.py myVE\n",
    "    ```\n",
    "    \n",
    "- Then activate your environment:\n",
    "    \n",
    "    ```source myVE/bin/activate```\n",
    "    \n",
    "      \n",
    "- And install the needed python packages:\n",
    "    \n",
    "    ```pip install jupyter numpy matplotlib```\n",
    "    \n",
    "- WARNING: for some obscure reasons, virtualenv removes /usr/lib/python2.7/dist-packages from PYTHONPATH. You may need to re-add it."
   ]
  },
  {
   "cell_type": "markdown",
   "metadata": {},
   "source": [
    "3) Source your terminal with the use of this [script](http://robotpkg.openrobots.org/install.html) to setup your environment variables to find _openrobots_ installation\n",
    "\n",
    "4) Make sure you have placed the plot_utils.py in the parent directory of the jupyter notebooks\n",
    "\n",
    "5) Start the notebook with the command:\n",
    "\n",
    "  ```jupyter notebook```\n",
    "\n",
    "6) At the end if you have chosen to use _virtualenv_ you should deactivate your environment with the command:\n",
    "\n",
    "  ```deactivate```"
   ]
  }
 ],
 "metadata": {
  "kernelspec": {
   "display_name": "Python 2",
   "language": "python",
   "name": "python2"
  },
  "language_info": {
   "codemirror_mode": {
    "name": "ipython",
    "version": 2
   },
   "file_extension": ".py",
   "mimetype": "text/x-python",
   "name": "python",
   "nbconvert_exporter": "python",
   "pygments_lexer": "ipython2",
   "version": "2.7.12"
  }
 },
 "nbformat": 4,
 "nbformat_minor": 2
}
